{
 "cells": [
  {
   "cell_type": "code",
   "execution_count": null,
   "metadata": {
    "scrolled": false
   },
   "outputs": [],
   "source": [
    "# import tensorflow as tf\n",
    "\n",
    "# filename_queue = tf.train.string_input_producer(\n",
    "#             tf.train.match_filenames_once(\"../../../a/data/deep3d_data/frames/train/left/*.jpeg\"))\n",
    "\n",
    "# image_reader = tf.WholeFileReader()\n",
    "\n",
    "# # Read a whole file from the queue, the first returned value in the tuple is the\n",
    "# # filename which we are ignoring.\n",
    "# _, image_file = image_reader.read(filename_queue)\n",
    "\n",
    "# # Decode the image as a JPEG file, this will turn it into a Tensor which we can\n",
    "# # then use in training.\n",
    "# image = tf.image.decode_jpeg(image_file)\n",
    "# image = tf.Print(image, data=[filename_queue.size(), image], message=\"Nb elements left, input:\")\n",
    "\n",
    "# with tf.Session() as sess:\n",
    "#     # Required to get the filename matching to run.\n",
    "#     tf.global_variables_initializer().run()\n",
    "\n",
    "#     # Coordinate the loading of image files.\n",
    "#     coord = tf.train.Coordinator()\n",
    "#     threads = tf.train.start_queue_runners(coord=coord)\n",
    "\n",
    "#     # Get an image tensor and print its value.\n",
    "#     image_tensor = sess.run(image)\n",
    "#     print(image_tensor)\n",
    "    \n",
    "#     # Finish off the filename queue coordinator.\n",
    "#     coord.request_stop()\n",
    "# coord.join(threads)"
   ]
  },
  {
   "cell_type": "code",
   "execution_count": null,
   "metadata": {
    "scrolled": false
   },
   "outputs": [],
   "source": [
    "import tensorflow as tf\n",
    "import matplotlib.pyplot as plt\n",
    "import os\n",
    "\n",
    "left_dir = \"/a/data/deep3d_data/frames/train/left/\"\n",
    "right_dir = \"/a/data/deep3d_data/frames/train/right/\"\n",
    "\n",
    "\n",
    "# base_names = map(str,range(4,3100)) - \"3\"\n",
    "#base_tensor = tf.convert_to_tensor(base_names)\n",
    "\n",
    "left_image_queue = tf.train.string_input_producer(\n",
    "  os.listdir(left_dir),\n",
    "  shuffle=False # Note: must set shuffle to False\n",
    ")\n",
    "right_image_queue = tf.train.string_input_producer(\n",
    "  os.listdir(right_dir),\n",
    "  shuffle=False # Note: must set shuffle to False\n",
    ")\n",
    "\n",
    "# # use reader to read file\n",
    "# image_reader = tf.WholeFileReader()\n",
    "# _, left_image_raw = image_reader.read(left_image_queue)\n",
    "# left_image = tf.image.decode_jpeg(left_image_raw)\n",
    "\n",
    "# _, right_image_raw = image_reader.read(right_image_queue)\n",
    "# right_image = tf.image.decode_jpeg(right_image_raw)\n",
    "\n",
    "# left_image.set_shape([160,288,3])\n",
    "# right_image.set_shape([160,288,3])\n",
    "\n",
    "\n",
    "# # preprocess image\n",
    "# batch = tf.train.shuffle_batch([left_image, right_image], \n",
    "#                                batch_size = 10,\n",
    "#                                capacity = 100,\n",
    "#                                num_threads = 1,\n",
    "#                                min_after_dequeue = 30,\n",
    "#                                allow_smaller_final_batch = True)\n",
    "\n",
    "\n",
    "init_op = tf.global_variables_initializer()\n",
    "\n",
    "# print batch\n",
    "with tf.device('/cpu:0'):\n",
    "    with tf.Session() as sess:\n",
    "        sess.run(init_op)\n",
    "        coord = tf.train.Coordinator()\n",
    "        queue_threads = tf.train.start_queue_runners(coord=coord)\n",
    "        \n",
    "        for i in range(10):\n",
    "            ret = sess.run(batch)\n",
    "            print len(ret), ret[0].shape\n",
    "        \n",
    "        \n",
    "        coord.request_stop()\n",
    "        coord.join(queue_threads)"
   ]
  },
  {
   "cell_type": "code",
   "execution_count": null,
   "metadata": {
    "scrolled": false
   },
   "outputs": [],
   "source": [
    "ret[0].shape\n",
    "for i in range(ret[0].shape[0]):\n",
    "    plt.imshow(ret[0][i])\n",
    "    plt.show()\n",
    "    plt.imshow(ret[1][i])\n",
    "    plt.show()\n",
    "    print(\"----------------\")\n"
   ]
  },
  {
   "cell_type": "code",
   "execution_count": null,
   "metadata": {
    "collapsed": true
   },
   "outputs": [],
   "source": []
  }
 ],
 "metadata": {
  "kernelspec": {
   "display_name": "Python 2",
   "language": "python",
   "name": "python2"
  },
  "language_info": {
   "codemirror_mode": {
    "name": "ipython",
    "version": 2
   },
   "file_extension": ".py",
   "mimetype": "text/x-python",
   "name": "python",
   "nbconvert_exporter": "python",
   "pygments_lexer": "ipython2",
   "version": "2.7.5"
  }
 },
 "nbformat": 4,
 "nbformat_minor": 2
}
