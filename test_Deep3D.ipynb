{
 "cells": [
  {
   "cell_type": "markdown",
   "metadata": {},
   "source": [
    "# importing data"
   ]
  },
  {
   "cell_type": "code",
   "execution_count": 1,
   "metadata": {
    "collapsed": true
   },
   "outputs": [],
   "source": [
    "\"\"\"\n",
    "Simple tester for the deep3d\n",
    "\"\"\"\n",
    "\n",
    "import tensorflow as tf\n",
    "import Deep3D as deep3d\n",
    "import utils\n",
    "import numpy as np\n",
    "import os\n",
    "import os.path\n",
    "import h5py\n",
    "import matplotlib as plt\n",
    "\n",
    "# for auto-reloading external modules\n",
    "# see http://stackoverflow.com/questions/1907993/autoreload-of-modules-in-ipython\n",
    "%load_ext autoreload\n",
    "%autoreload 2"
   ]
  },
  {
   "cell_type": "code",
   "execution_count": null,
   "metadata": {
    "collapsed": true
   },
   "outputs": [],
   "source": [
    "inria_file = '/a/data/deep3d_data/inria_data.h5'\n",
    "h5f = h5py.File(inria_file,'r')\n",
    "\n",
    "X_train = h5f['X_0'][:400,10:170,16:304,:]\n",
    "Y_train = h5f['Y_0'][:400,10:170,16:304,:]\n",
    "X_val = h5f['X_0'][400:,10:170,16:304,:]\n",
    "Y_val = h5f['Y_0'][400:,10:170,16:304,:]\n",
    "   \n",
    "    \n",
    "h5f.close()"
   ]
  },
  {
   "cell_type": "code",
   "execution_count": null,
   "metadata": {
    "scrolled": false
   },
   "outputs": [
    {
     "name": "stdout",
     "output_type": "stream",
     "text": [
      "var count:\n",
      "138408071\n",
      "start training\n"
     ]
    }
   ],
   "source": [
    "num_batches = 10\n",
    "batchsize = 50\n",
    "device1 = '/gpu:0'\n",
    "#device1 = '/cpu:0'\n",
    "\n",
    "config = tf.ConfigProto()\n",
    "config.gpu_options.allow_growth=True\n",
    "\n",
    "with tf.device(device1):\n",
    "    sess = tf.Session(config=config)\n",
    "\n",
    "    images = tf.placeholder(tf.float32, [batchsize, 160, 288, 3])\n",
    "    true_out = tf.placeholder(tf.float32, [batchsize, 160, 288, 3])\n",
    "    \n",
    "    train_mode = tf.placeholder(tf.bool)\n",
    "\n",
    "    net = deep3d.Deep3Dnet('./vgg19.npy')\n",
    "    net.build(images, train_mode)\n",
    "\n",
    "    #print number of variables used: 143667240 variables, i.e. ideal size = 548MB\n",
    "    print 'var count:'\n",
    "    print(net.get_var_count())\n",
    "        \n",
    "    sess.run(tf.global_variables_initializer())\n",
    "    \n",
    "    # simple 1-step training\n",
    "    cost = tf.reduce_sum((net.prob - true_out) ** 2)\n",
    "    train = tf.train.GradientDescentOptimizer(0.002).minimize(cost)\n",
    "    print \"start training\"\n",
    "    for i in xrange(num_batches):\n",
    "        image_mask = np.random.choice(X_train.shape[0],batchsize)\n",
    "        images_in = X_train[image_mask,:,:,:]\n",
    "        labels_in = Y_train[image_mask,:,:,:]\n",
    "        _, cost_val = sess.run([train,cost], feed_dict={images: images_in, true_out: labels_in, train_mode: True})\n",
    "        print 'cost:' + str(cost_val)\n",
    "       "
   ]
  },
  {
   "cell_type": "code",
   "execution_count": null,
   "metadata": {
    "collapsed": true
   },
   "outputs": [],
   "source": []
  }
 ],
 "metadata": {
  "kernelspec": {
   "display_name": "Python 2",
   "language": "python",
   "name": "python2"
  },
  "language_info": {
   "codemirror_mode": {
    "name": "ipython",
    "version": 2
   },
   "file_extension": ".py",
   "mimetype": "text/x-python",
   "name": "python",
   "nbconvert_exporter": "python",
   "pygments_lexer": "ipython2",
   "version": "2.7.5"
  }
 },
 "nbformat": 4,
 "nbformat_minor": 1
}
