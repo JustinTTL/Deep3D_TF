{
 "cells": [
  {
   "cell_type": "markdown",
   "metadata": {},
   "source": [
    "# importing data"
   ]
  },
  {
   "cell_type": "code",
   "execution_count": 1,
   "metadata": {
    "collapsed": false
   },
   "outputs": [],
   "source": [
    "\"\"\"\n",
    "Simple tester for the vgg19_trainable\n",
    "\"\"\"\n",
    "\n",
    "import tensorflow as tf\n",
    "import Deep3D as deep3d\n",
    "import utils\n",
    "\n",
    "import os\n",
    "import os.path\n",
    "import h5py\n",
    "import matplotlib as plt\n",
    "\n",
    "%matplotlib inline\n",
    "plt.rcParams['figure.figsize'] = (10.0, 8.0) # set default size of plots\n",
    "plt.rcParams['image.interpolation'] = 'nearest'\n",
    "plt.rcParams['image.cmap'] = 'gray'\n",
    "\n",
    "# for auto-reloading external modules\n",
    "# see http://stackoverflow.com/questions/1907993/autoreload-of-modules-in-ipython\n",
    "%load_ext autoreload\n",
    "%autoreload 2"
   ]
  },
  {
   "cell_type": "code",
   "execution_count": 2,
   "metadata": {
    "collapsed": false
   },
   "outputs": [],
   "source": [
    "inria_file = 'inria_data.h5'\n",
    "h5f = h5py.File(inria_file,'r')\n",
    "\n",
    "X_train = h5f['X_0'][:400,10:170,16:304,:]\n",
    "Y_train = h5f['Y_0'][:400,10:170,16:304,:]\n",
    "X_val = h5f['X_0'][400:,10:170,16:304,:]\n",
    "Y_val = h5f['Y_0'][400:,10:170,16:304,:]\n",
    "   \n",
    "    \n",
    "h5f.close()"
   ]
  },
  {
   "cell_type": "code",
   "execution_count": 3,
   "metadata": {
    "collapsed": false
   },
   "outputs": [
    {
     "name": "stdout",
     "output_type": "stream",
     "text": [
      "(100, 160, 288, 3)\n"
     ]
    }
   ],
   "source": [
    "print Y_val.shape"
   ]
  },
  {
   "cell_type": "code",
   "execution_count": 35,
   "metadata": {
    "collapsed": true
   },
   "outputs": [
    {
     "name": "stdout",
     "output_type": "stream",
     "text": [
      "[50, 5, 9, 512]\nconv input shape"
     ]
    },
    {
     "name": "stdout",
     "output_type": "stream",
     "text": [
      "\n[50, 160, 288, 33]\n138408071"
     ]
    }
   ],
   "source": [
    "num_batches = 100\n",
    "batchsize = 50\n",
    "device1 = '/gpu:0'\n",
    "#device1 = '/cpu:0'\n",
    "with tf.device(device1):\n",
    "    sess = tf.Session()\n",
    "\n",
    "    images = tf.placeholder(tf.float32, [batchsize, 160, 288, 3])\n",
    "    \n",
    "    true_out = tf.placeholder(tf.float32, [batchsize, 160, 288, 3])\n",
    "    train_mode = tf.placeholder(tf.bool)\n",
    "\n",
    "    net = deep3d.Deep3Dnet('./deep3d-save.npy')\n",
    "    net.build(images, train_mode)\n",
    "\n",
    "    # print number of variables used: 143667240 variables, i.e. ideal size = 548MB\n",
    "    print(net.get_var_count())\n",
    "\n",
    "    sess.run(tf.global_variables_initializer())\n",
    "\n",
    "    # test classification\n",
    "    prob = sess.run(net.prob, feed_dict={images: batch1, train_mode: False})\n",
    "\n",
    "    # simple 1-step training\n",
    "    cost = tf.reduce_sum((vgg.prob - true_out) ** 2)\n",
    "    train = tf.train.GradientDescentOptimizer(0.002).minimize(cost)\n",
    "    for i in xrange(num_batches):\n",
    "        batch1 = np.random(X_train,batchsize)\n",
    "        sess.run(train, feed_dict={images: batch1, true_out: [img1_true_result], train_mode: True})\n",
    "\n",
    "    # test classification again, should have a higher probability about tiger\n",
    "    prob = sess.run(vgg.prob, feed_dict={images: batch1, train_mode: False})\n",
    "    utils.print_prob(prob[0], './synset.txt')\n",
    "\n",
    "    # test save\n",
    "    #vgg.save_npy(sess, './test-save.npy')"
   ]
  },
  {
   "cell_type": "markdown",
   "metadata": {},
   "source": [
    "# testing the network"
   ]
  },
  {
   "cell_type": "code",
   "execution_count": null,
   "metadata": {
    "collapsed": true
   },
   "outputs": [],
   "source": [
    "img1 = utils.load_image(\"./test_data/tiger.jpeg\")\n",
    "img1_true_result = [1 if i == 292 else 0 for i in range(1000)]  # 1-hot result for tiger\n",
    "\n",
    "batch1 = img1.reshape((1, 180, 320, 3))\n",
    "\n",
    "with tf.device('/gpu:0'):\n",
    "    sess = tf.Session()\n",
    "\n",
    "    images = tf.placeholder(tf.float32, [1, 180, 320, 3])\n",
    "    true_out = tf.placeholder(tf.float32, [1, 1000])\n",
    "    train_mode = tf.placeholder(tf.bool)\n",
    "\n",
    "    vgg = deep3d.Deep3Dnet('./deep3d-save.npy')\n",
    "    vgg.build(images, train_mode)\n",
    "\n",
    "    # print number of variables used: 143667240 variables, i.e. ideal size = 548MB\n",
    "    print(vgg.get_var_count())\n",
    "\n",
    "    sess.run(tf.global_variables_initializer())\n",
    "\n",
    "    # test classification\n",
    "    prob = sess.run(vgg.prob, feed_dict={images: batch1, train_mode: False})\n",
    "    utils.print_prob(prob[0], './synset.txt')\n",
    "\n",
    "    # simple 1-step training\n",
    "    cost = tf.reduce_sum((vgg.prob - true_out) ** 2)\n",
    "    train = tf.train.GradientDescentOptimizer(0.0001).minimize(cost)\n",
    "    sess.run(train, feed_dict={images: batch1, true_out: [img1_true_result], train_mode: True})\n",
    "\n",
    "    # test classification again, should have a higher probability about tiger\n",
    "    prob = sess.run(vgg.prob, feed_dict={images: batch1, train_mode: False})\n",
    "    utils.print_prob(prob[0], './synset.txt')\n",
    "\n",
    "    # test save\n",
    "    vgg.save_npy(sess, './test-save.npy')"
   ]
  }
 ],
 "metadata": {
  "kernelspec": {
   "display_name": "Python 2",
   "language": "python",
   "name": "python2"
  },
  "language_info": {
   "codemirror_mode": {
    "name": "ipython",
    "version": 2.0
   },
   "file_extension": ".py",
   "mimetype": "text/x-python",
   "name": "python",
   "nbconvert_exporter": "python",
   "pygments_lexer": "ipython2",
   "version": "2.7.13"
  }
 },
 "nbformat": 4,
 "nbformat_minor": 0
}